{
 "cells": [
  {
   "cell_type": "markdown",
   "metadata": {},
   "source": [
    "# A Basic LoRA Implementation"
   ]
  },
  {
   "cell_type": "markdown",
   "metadata": {},
   "source": []
  },
  {
   "cell_type": "code",
   "execution_count": null,
   "metadata": {
    "vscode": {
     "languageId": "plaintext"
    }
   },
   "outputs": [],
   "source": [
    "%pip install torch -q"
   ]
  },
  {
   "cell_type": "code",
   "execution_count": null,
   "metadata": {},
   "outputs": [],
   "source": [
    "import torch\n",
    "\n",
    "\n",
    "class LoRALayer(torch.nn.Module):\n",
    "    \"\"\"A basic LoRALayer implementation.\"\"\"\n",
    "\n",
    "    def __init__(self, d_in: int, d_out: int, rank: int):\n",
    "        self.A = torch.nn.Parameter(torch.empty(d_in, rank))\n",
    "        self.B = torch.nn.Parameter(torch.zeros(rank, d_out))\n",
    "\n",
    "    def forward(self, x):\n",
    "        return x @ self.A @ self.B"
   ]
  },
  {
   "cell_type": "code",
   "execution_count": null,
   "metadata": {},
   "outputs": [],
   "source": [
    "class LinearWithLoRA(torch.nn.Module):\n",
    "    def __init__(self, linear: torch.nn.Linear, rank: int):\n",
    "        self.linear = linear\n",
    "        self.lora = LoRALayer(\n",
    "            d_in=linear.in_features, d_out=linear.out_features, rank=rank\n",
    "        )\n",
    "\n",
    "    def forward(self, x):\n",
    "        return self.linear(x) + self.lora(x)"
   ]
  }
 ],
 "metadata": {
  "language_info": {
   "name": "python"
  }
 },
 "nbformat": 4,
 "nbformat_minor": 2
}
