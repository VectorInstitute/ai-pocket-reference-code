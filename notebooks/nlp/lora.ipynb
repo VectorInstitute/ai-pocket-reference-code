{
 "cells": [
  {
   "cell_type": "markdown",
   "metadata": {},
   "source": [
    "# A Basic LoRA Implementation"
   ]
  },
  {
   "cell_type": "markdown",
   "metadata": {},
   "source": [
    "This notebook contains code adapted from [LLMs-from-scratch](https://github.com/rasbt/LLMs-from-scratch)\n",
    "\n",
    "Copyright 2023-2025 Sebastian Raschka\n",
    "Licensed under the Apache License, Version 2.0\n",
    "\n",
    "For the full license text, see: https://github.com/rasbt/LLMs-from-scratch?tab=License-1-ov-file#readme"
   ]
  },
  {
   "cell_type": "code",
   "execution_count": null,
   "metadata": {},
   "outputs": [
    {
     "name": "stdout",
     "output_type": "stream",
     "text": [
      "\n",
      "\u001b[1m[\u001b[0m\u001b[34;49mnotice\u001b[0m\u001b[1;39;49m]\u001b[0m\u001b[39;49m A new release of pip is available: \u001b[0m\u001b[31;49m24.3.1\u001b[0m\u001b[39;49m -> \u001b[0m\u001b[32;49m25.0.1\u001b[0m\n",
      "\u001b[1m[\u001b[0m\u001b[34;49mnotice\u001b[0m\u001b[1;39;49m]\u001b[0m\u001b[39;49m To update, run: \u001b[0m\u001b[32;49mpip install --upgrade pip\u001b[0m\n",
      "Note: you may need to restart the kernel to use updated packages.\n"
     ]
    }
   ],
   "source": [
    "# install dependencies\n",
    "%pip install torch -q"
   ]
  },
  {
   "cell_type": "code",
   "execution_count": null,
   "metadata": {},
   "outputs": [
    {
     "name": "stderr",
     "output_type": "stream",
     "text": [
      "/Users/valandreifajardo/.pyenv/versions/pocket-reference-nb/lib/python3.12/site-packages/torch/_subclasses/functional_tensor.py:275: UserWarning: Failed to initialize NumPy: No module named 'numpy' (Triggered internally at /Users/runner/work/pytorch/pytorch/pytorch/torch/csrc/utils/tensor_numpy.cpp:81.)\n",
      "  cpu = _conversion_method_template(device=torch.device(\"cpu\"))\n"
     ]
    }
   ],
   "source": [
    "import math\n",
    "\n",
    "import torch\n",
    "from torch.nn import Module\n",
    "\n",
    "\n",
    "class LoRALayer(Module):\n",
    "    \"\"\"A basic LoRALayer implementation.\"\"\"\n",
    "\n",
    "    def __init__(self, d_in: int, d_out: int, rank: int):\n",
    "        super().__init__()\n",
    "        self.A = torch.nn.Parameter(torch.empty(d_in, rank))\n",
    "        torch.nn.init.kaiming_uniform_(self.A, a=math.sqrt(5))\n",
    "        self.B = torch.nn.Parameter(torch.zeros(rank, d_out))\n",
    "\n",
    "    def forward(self, x):\n",
    "        return x @ self.A @ self.B"
   ]
  },
  {
   "cell_type": "code",
   "execution_count": null,
   "metadata": {},
   "outputs": [],
   "source": [
    "class LinearWithLoRA(torch.nn.Module):\n",
    "    \"\"\"Linear with LoRA.\"\"\"\n",
    "\n",
    "    def __init__(self, linear: torch.nn.Linear, rank: int):\n",
    "        super().__init__()\n",
    "        self.linear = linear\n",
    "        self.lora = LoRALayer(\n",
    "            d_in=linear.in_features, d_out=linear.out_features, rank=rank\n",
    "        )\n",
    "\n",
    "    def forward(self, x):\n",
    "        return self.linear(x) + self.lora(x)"
   ]
  },
  {
   "cell_type": "markdown",
   "metadata": {},
   "source": [
    "Let's do a demo forward pass for both `Linear` and `LinearWithLoRa`."
   ]
  },
  {
   "cell_type": "code",
   "execution_count": null,
   "metadata": {},
   "outputs": [
    {
     "name": "stdout",
     "output_type": "stream",
     "text": [
      "torch.Size([1, 2, 5])\n"
     ]
    }
   ],
   "source": [
    "x = torch.tensor([[[1, 2, 3, 4, 5], [6, 7, 8, 9, 10]]], dtype=torch.float32)\n",
    "print(x.shape)\n",
    "\n",
    "# linear and linear_with_lora\n",
    "linear = torch.nn.Linear(in_features=5, out_features=5)\n",
    "linear_with_lora = LinearWithLoRA(linear=linear, rank=2)"
   ]
  },
  {
   "cell_type": "code",
   "execution_count": null,
   "metadata": {},
   "outputs": [
    {
     "data": {
      "text/plain": [
       "tensor([[[ 1.0671,  2.3147, -0.5288,  2.4322, -1.4214],\n",
       "         [ 3.9911,  4.9642,  1.0640,  5.9899, -3.5283]]],\n",
       "       grad_fn=<ViewBackward0>)"
      ]
     },
     "execution_count": null,
     "metadata": {},
     "output_type": "execute_result"
    }
   ],
   "source": [
    "# forward with linear\n",
    "linear(x)"
   ]
  },
  {
   "cell_type": "code",
   "execution_count": null,
   "metadata": {},
   "outputs": [
    {
     "data": {
      "text/plain": [
       "tensor([[[ 1.0671,  2.3147, -0.5288,  2.4322, -1.4214],\n",
       "         [ 3.9911,  4.9642,  1.0640,  5.9899, -3.5283]]],\n",
       "       grad_fn=<AddBackward0>)"
      ]
     },
     "execution_count": null,
     "metadata": {},
     "output_type": "execute_result"
    }
   ],
   "source": [
    "# forward for linear_with_lora\n",
    "# NOTE: this should be the same as linear since we've only initialized the\n",
    "# LinearWithLoRA layer, and B initializes to a zero matrix. During fine-tuning\n",
    "# as A and B both update its weights, these two will no longer be the same.\n",
    "linear_with_lora(x)"
   ]
  },
  {
   "cell_type": "code",
   "execution_count": null,
   "metadata": {},
   "outputs": [
    {
     "data": {
      "text/plain": [
       "Parameter containing:\n",
       "tensor([[-0.0655,  0.2380],\n",
       "        [-0.2090,  0.6242],\n",
       "        [-0.2263,  0.4789],\n",
       "        [ 0.4980,  0.2259],\n",
       "        [ 0.2017, -0.4462]], requires_grad=True)"
      ]
     },
     "execution_count": null,
     "metadata": {},
     "output_type": "execute_result"
    }
   ],
   "source": [
    "# A's weights\n",
    "linear_with_lora.lora.A"
   ]
  },
  {
   "cell_type": "code",
   "execution_count": null,
   "metadata": {},
   "outputs": [
    {
     "data": {
      "text/plain": [
       "Parameter containing:\n",
       "tensor([[0., 0., 0., 0., 0.],\n",
       "        [0., 0., 0., 0., 0.]], requires_grad=True)"
      ]
     },
     "execution_count": null,
     "metadata": {},
     "output_type": "execute_result"
    }
   ],
   "source": [
    "# B's weights\n",
    "linear_with_lora.lora.B"
   ]
  }
 ],
 "metadata": {
  "kernelspec": {
   "display_name": "pocket-reference-nb",
   "language": "python",
   "name": "python3"
  },
  "language_info": {
   "codemirror_mode": {
    "name": "ipython",
    "version": 3
   },
   "file_extension": ".py",
   "mimetype": "text/x-python",
   "name": "python",
   "nbconvert_exporter": "python",
   "pygments_lexer": "ipython3"
  }
 },
 "nbformat": 4,
 "nbformat_minor": 2
}
